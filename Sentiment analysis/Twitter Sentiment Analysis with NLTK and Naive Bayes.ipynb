{
 "cells": [
  {
   "cell_type": "markdown",
   "id": "2ced5bfb",
   "metadata": {},
   "source": [
    "# Load data"
   ]
  },
  {
   "cell_type": "code",
   "execution_count": 42,
   "id": "19245299",
   "metadata": {},
   "outputs": [],
   "source": [
    "\n",
    "#from nltk.corpus import twitter_samples\n",
    "\n",
    "#positive_tweet_tokens = twitter_samples.tokenized('positive_tweets.json')\n",
    "#negative_tweet_tokens = twitter_samples.tokenized('negative_tweets.json')"
   ]
  },
  {
   "cell_type": "code",
   "execution_count": 53,
   "id": "1faba108",
   "metadata": {},
   "outputs": [
    {
     "name": "stdout",
     "output_type": "stream",
     "text": [
      "200000\n",
      "200000\n"
     ]
    }
   ],
   "source": [
    "#target: the polarity of the tweet (0 = negative, 2 = neutral, 4 = positive)\n",
    "from nltk.tokenize import word_tokenize\n",
    "import pandas as pd\n",
    "\n",
    "df = pd.read_csv('training_data.csv', delimiter=',')\n",
    "\n",
    "positive_tweet_tokens = []\n",
    "negative_tweet_tokens = []\n",
    "\n",
    "positive_row_count=0\n",
    "negative_row_count=0\n",
    "for row in df.values:\n",
    "    if row[0]==0 and negative_row_count<200000:\n",
    "        negative_row_count+=1\n",
    "        negative_tweet_tokens.append(word_tokenize(row[5]))\n",
    "    elif row[0]==4 and positive_row_count<200000:\n",
    "        positive_row_count+=1\n",
    "        positive_tweet_tokens.append(word_tokenize(row[5]))\n",
    "\n",
    "print(len(positive_tweet_tokens))\n",
    "print(len(negative_tweet_tokens))"
   ]
  },
  {
   "cell_type": "markdown",
   "id": "a8dc5d92",
   "metadata": {},
   "source": [
    "# Removing Noise from the Data"
   ]
  },
  {
   "cell_type": "code",
   "execution_count": 54,
   "id": "3e022bca",
   "metadata": {},
   "outputs": [],
   "source": [
    "from nltk.stem.wordnet import WordNetLemmatizer\n",
    "from nltk.tag import pos_tag\n",
    "import re, string\n",
    "\n",
    "def remove_noise(tweet_tokens, stop_words = ()):\n",
    "\n",
    "    cleaned_tokens = []\n",
    "\n",
    "    for token, tag in pos_tag(tweet_tokens):\n",
    "        token = re.sub('http[s]?://(?:[a-zA-Z]|[0-9]|[$-_@.&+#]|[!*\\(\\),]|'\\\n",
    "                       '(?:%[0-9a-fA-F][0-9a-fA-F]))+','', token)\n",
    "        token = re.sub(\"(@[A-Za-z0-9_]+)\",\"\", token)\n",
    "\n",
    "        if tag.startswith(\"NN\"):\n",
    "            pos = 'n'\n",
    "        elif tag.startswith('VB'):\n",
    "            pos = 'v'\n",
    "        else:\n",
    "            pos = 'a'\n",
    "\n",
    "        lemmatizer = WordNetLemmatizer()\n",
    "        token = lemmatizer.lemmatize(token, pos)\n",
    "\n",
    "        if len(token) > 0 and token not in string.punctuation and token.lower() not in stop_words and token not in [\"...\",\"http\"]:\n",
    "            cleaned_tokens.append(token.lower())\n",
    "    return cleaned_tokens"
   ]
  },
  {
   "cell_type": "markdown",
   "id": "178b2518",
   "metadata": {},
   "source": [
    "# Clean the Positive and Negative Data"
   ]
  },
  {
   "cell_type": "code",
   "execution_count": 55,
   "id": "42234f67",
   "metadata": {},
   "outputs": [
    {
     "name": "stdout",
     "output_type": "stream",
     "text": [
      "['I', 'LOVE', '@', 'Health4UandPets', 'u', 'guys', 'r', 'the', 'best', '!', '!']\n",
      "['love', 'health4uandpets', 'u', 'guy', 'r', 'best']\n"
     ]
    }
   ],
   "source": [
    "from nltk.corpus import stopwords\n",
    "\n",
    "positive_cleaned_tokens_list = []\n",
    "negative_cleaned_tokens_list = []\n",
    "\n",
    "stop_words = stopwords.words('english')\n",
    "\n",
    "for tokens in positive_tweet_tokens:\n",
    "    positive_cleaned_tokens_list.append(remove_noise(tokens, stop_words))\n",
    "\n",
    "for tokens in negative_tweet_tokens:\n",
    "    negative_cleaned_tokens_list.append(remove_noise(tokens, stop_words))\n",
    "    \n",
    "\n",
    "print(positive_tweet_tokens[0])\n",
    "print(positive_cleaned_tokens_list[0])"
   ]
  },
  {
   "cell_type": "markdown",
   "id": "da92d278",
   "metadata": {},
   "source": [
    "# Determining Word Density"
   ]
  },
  {
   "cell_type": "code",
   "execution_count": 56,
   "id": "d1743826",
   "metadata": {},
   "outputs": [],
   "source": [
    "def get_all_words(cleaned_tokens_list):\n",
    "    for tokens in cleaned_tokens_list:\n",
    "        for token in tokens:\n",
    "            yield token\n",
    "\n",
    "all_pos_words = get_all_words(positive_cleaned_tokens_list)"
   ]
  },
  {
   "cell_type": "markdown",
   "id": "0dd8b30c",
   "metadata": {},
   "source": [
    "# Testing Word Density"
   ]
  },
  {
   "cell_type": "code",
   "execution_count": 57,
   "id": "c63c0415",
   "metadata": {},
   "outputs": [
    {
     "name": "stdout",
     "output_type": "stream",
     "text": [
      "[(\"'s\", 24354), ('good', 19020), ('get', 18009), ('day', 15611), ('go', 15286), (\"'m\", 13967), (\"n't\", 13567), ('love', 12924), ('quot', 11691), ('..', 11671)]\n"
     ]
    }
   ],
   "source": [
    "from nltk import FreqDist\n",
    "\n",
    "freq_dist_pos = FreqDist(all_pos_words)\n",
    "print(freq_dist_pos.most_common(10))"
   ]
  },
  {
   "cell_type": "markdown",
   "id": "1eb8a81d",
   "metadata": {},
   "source": [
    "# Converting Tokens to a Dictionary"
   ]
  },
  {
   "cell_type": "code",
   "execution_count": 58,
   "id": "0e20ae26",
   "metadata": {},
   "outputs": [],
   "source": [
    "def get_tweets_for_model(cleaned_tokens_list):\n",
    "    for tweet_tokens in cleaned_tokens_list:\n",
    "        yield dict([token, True] for token in tweet_tokens)\n",
    "\n",
    "positive_tokens_for_model = get_tweets_for_model(positive_cleaned_tokens_list)\n",
    "negative_tokens_for_model = get_tweets_for_model(negative_cleaned_tokens_list)\n"
   ]
  },
  {
   "cell_type": "markdown",
   "id": "00a1ab54",
   "metadata": {},
   "source": [
    "# Splitting the Dataset for Training and Testing the Model"
   ]
  },
  {
   "cell_type": "code",
   "execution_count": 59,
   "id": "c5b68608",
   "metadata": {},
   "outputs": [
    {
     "name": "stdout",
     "output_type": "stream",
     "text": [
      "320000\n",
      "80000\n"
     ]
    }
   ],
   "source": [
    "import random\n",
    "\n",
    "positive_dataset = [(tweet_dict, \"Positive\")\n",
    "                     for tweet_dict in positive_tokens_for_model]\n",
    "\n",
    "\n",
    "negative_dataset = [(tweet_dict, \"Negative\")\n",
    "                     for tweet_dict in negative_tokens_for_model]\n",
    "\n",
    "dataset = positive_dataset + negative_dataset\n",
    "\n",
    "random.shuffle(dataset)\n",
    "\n",
    "train_data = dataset[:320000]\n",
    "test_data = dataset[320000:]\n",
    "print(len(train_data))\n",
    "print(len(test_data))"
   ]
  },
  {
   "cell_type": "code",
   "execution_count": 62,
   "id": "740bb937",
   "metadata": {},
   "outputs": [
    {
     "name": "stdout",
     "output_type": "stream",
     "text": [
      "Accuracy is: 0.7552125\n",
      "Most Informative Features\n",
      "               depressed = True           Negati : Positi =     37.2 : 1.0\n",
      "               toothache = True           Negati : Positi =     35.6 : 1.0\n",
      "                     bom = True           Positi : Negati =     29.7 : 1.0\n",
      "                coughing = True           Negati : Positi =     27.6 : 1.0\n",
      "                    roni = True           Negati : Positi =     27.6 : 1.0\n",
      "          disappointment = True           Negati : Positi =     27.0 : 1.0\n",
      "                 unhappy = True           Negati : Positi =     27.0 : 1.0\n",
      "                nauseous = True           Negati : Positi =     24.3 : 1.0\n",
      "                   ariel = True           Positi : Negati =     23.0 : 1.0\n",
      "                  booooo = True           Negati : Positi =     22.6 : 1.0\n",
      "None\n"
     ]
    }
   ],
   "source": [
    "from nltk import classify\n",
    "from nltk import NaiveBayesClassifier\n",
    "classifier = NaiveBayesClassifier.train(train_data)\n",
    "\n",
    "print(\"Accuracy is:\", classify.accuracy(classifier, test_data))\n",
    "\n",
    "print(classifier.show_most_informative_features(10))"
   ]
  },
  {
   "cell_type": "code",
   "execution_count": 68,
   "id": "04abb98f",
   "metadata": {},
   "outputs": [
    {
     "name": "stdout",
     "output_type": "stream",
     "text": [
      "Positive\n"
     ]
    }
   ],
   "source": [
    "from nltk.tokenize import word_tokenize\n",
    "\n",
    "custom_tweet = \"I am joyful\"\n",
    "custom_tokens = remove_noise(word_tokenize(custom_tweet))\n",
    "\n",
    "print(classifier.classify(dict([token, True] for token in custom_tokens)))"
   ]
  },
  {
   "cell_type": "code",
   "execution_count": null,
   "id": "6a98dad0",
   "metadata": {},
   "outputs": [],
   "source": []
  }
 ],
 "metadata": {
  "kernelspec": {
   "display_name": "Python 3",
   "language": "python",
   "name": "python3"
  },
  "language_info": {
   "codemirror_mode": {
    "name": "ipython",
    "version": 3
   },
   "file_extension": ".py",
   "mimetype": "text/x-python",
   "name": "python",
   "nbconvert_exporter": "python",
   "pygments_lexer": "ipython3",
   "version": "3.8.8"
  }
 },
 "nbformat": 4,
 "nbformat_minor": 5
}
